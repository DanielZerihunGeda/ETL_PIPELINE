{
 "cells": [
  {
   "cell_type": "code",
   "execution_count": 21,
   "id": "1f75c9ae",
   "metadata": {},
   "outputs": [],
   "source": [
    "import pandas as pd\n",
    "import csv\n",
    "import numpy as np\n",
    "class ProcessData:\n",
    "    def __init__(self, csv_file):\n",
    "        self.csv_file = csv_file\n",
    "        self.data = None\n",
    "        self.csv = None\n",
    "    \"\"\"Extracting the first 4 columns from the raw data since they are constant throughout each rows \"\"\"\n",
    "    def extract_first_four_columns(self):\n",
    "        self.data = pd.read_csv(self.csv_file, delimiter=';', usecols=range(4), header=None, skiprows=1)\n",
    "        column_name = ['track_id', 'type', 'traveled_d', 'avg_speed']\n",
    "        self.data.columns = column_name\n",
    "        return self.data\n",
    "    \n",
    "\n",
    "    \n",
    "    \"\"\"Reading each rows line by line after 4th column since they are time tracking(time-series) \n",
    "    datas and the number of each columns throughout the each rows, so the method returns a list\n",
    "    of lists (nested-lists) of each rows\n",
    "    \"\"\"\n",
    "\n",
    "    def extract_data(self, delimiter=';', skip_rows=1):\n",
    "        self.csv = []\n",
    "        with open(self.csv_file, 'r') as file:\n",
    "            csv_reader = csv.reader(file, delimiter=delimiter)\n",
    "            for _ in range(skip_rows):\n",
    "                next(csv_reader)\n",
    "            for row in csv_reader:\n",
    "                values_from_4th_column = row[4:]\n",
    "                self.csv.append(values_from_4th_column)\n",
    "        return self.csv\n",
    "    \n",
    "    \"\"\"\n",
    "\n",
    "    slicing a list of lists returned by extract_data into 6 column Dataframes\n",
    "    each Dataframe is instant capture at t = time columns and concatenate it with \n",
    "    Dataframe returned by extract_first_four_columns method to give us df contain\n",
    "    every attributes captured at t = time\n",
    "    \"\"\"\n",
    "    def slice_dataframes(self):\n",
    "        max_cols = max(len(row) for row in self.csv)\n",
    "        num_dfs = (max_cols + 5) // 6\n",
    "        nested_dfs = []\n",
    "        for row in self.csv:\n",
    "            sliced_row = [\n",
    "                row[i * 6: (i + 1) * 6] if len(row) >= (i + 1) * 6 else row[i * 6:] + [np.nan] * (6 - len(row[i * 6:])) for i in range(num_dfs)\n",
    "            ]\n",
    "            sliced_df = pd.DataFrame(sliced_row, columns=['lat','lon', 'speed', 'lon_acc','lat_acc','time'])\n",
    "            nested_dfs.append(sliced_df)\n",
    "\n",
    "            sliced_col = pd.concat([self.data,nested_dfs])\n",
    "        \n",
    "        return sliced_col\n",
    "    "
   ]
  },
  {
   "cell_type": "code",
   "execution_count": 22,
   "id": "f41f94ec",
   "metadata": {},
   "outputs": [],
   "source": [
    "#checking the ProcessData Class returns\n",
    "cs = 'swarm_drone.csv'\n",
    "instan = ProcessData(cs)\n",
    "instan.extract_data()\n",
    "nested_dfs = instan.slice_dataframes()\n",
    "print(nested_dfs[0])\n"
   ]
  }
 ],
 "metadata": {
  "kernelspec": {
   "display_name": "Python 3 (ipykernel)",
   "language": "python",
   "name": "python3"
  },
  "language_info": {
   "codemirror_mode": {
    "name": "ipython",
    "version": 3
   },
   "file_extension": ".py",
   "mimetype": "text/x-python",
   "name": "python",
   "nbconvert_exporter": "python",
   "pygments_lexer": "ipython3",
   "version": "3.10.12"
  }
 },
 "nbformat": 4,
 "nbformat_minor": 5
}
